{
  "nbformat": 4,
  "nbformat_minor": 0,
  "metadata": {
    "colab": {
      "provenance": []
    },
    "kernelspec": {
      "name": "python3",
      "display_name": "Python 3"
    },
    "language_info": {
      "name": "python"
    }
  },
  "cells": [
    {
      "cell_type": "code",
      "execution_count": 1,
      "metadata": {
        "id": "LbjjdEBWKZhq"
      },
      "outputs": [],
      "source": [
        "# Import libraries\n",
        "import pandas as pd\n",
        "import numpy as np\n",
        "import matplotlib.pyplot as plt\n",
        "import seaborn as sns\n",
        "# Importing dataset\n",
        "dataset = pd.read_csv('adult.csv')"
      ]
    },
    {
      "cell_type": "code",
      "source": [
        "# Preview dataset\n",
        "dataset.head()"
      ],
      "metadata": {
        "colab": {
          "base_uri": "https://localhost:8080/",
          "height": 250
        },
        "id": "IoPTOA02MEam",
        "outputId": "4ebbf27d-796e-46ba-8d44-001c71a94c2b"
      },
      "execution_count": 2,
      "outputs": [
        {
          "output_type": "execute_result",
          "data": {
            "text/plain": [
              "   age workclass  fnlwgt     education  education.num marital.status  \\\n",
              "0   90         ?   77053       HS-grad              9        Widowed   \n",
              "1   82   Private  132870       HS-grad              9        Widowed   \n",
              "2   66         ?  186061  Some-college             10        Widowed   \n",
              "3   54   Private  140359       7th-8th              4       Divorced   \n",
              "4   41   Private  264663  Some-college             10      Separated   \n",
              "\n",
              "          occupation   relationship   race     sex  capital.gain  \\\n",
              "0                  ?  Not-in-family  White  Female             0   \n",
              "1    Exec-managerial  Not-in-family  White  Female             0   \n",
              "2                  ?      Unmarried  Black  Female             0   \n",
              "3  Machine-op-inspct      Unmarried  White  Female             0   \n",
              "4     Prof-specialty      Own-child  White  Female             0   \n",
              "\n",
              "   capital.loss  hours.per.week native.country income  \n",
              "0          4356              40  United-States  <=50K  \n",
              "1          4356              18  United-States  <=50K  \n",
              "2          4356              40  United-States  <=50K  \n",
              "3          3900              40  United-States  <=50K  \n",
              "4          3900              40  United-States  <=50K  "
            ],
            "text/html": [
              "\n",
              "  <div id=\"df-05c59953-5f69-401e-973c-74d52796f96e\">\n",
              "    <div class=\"colab-df-container\">\n",
              "      <div>\n",
              "<style scoped>\n",
              "    .dataframe tbody tr th:only-of-type {\n",
              "        vertical-align: middle;\n",
              "    }\n",
              "\n",
              "    .dataframe tbody tr th {\n",
              "        vertical-align: top;\n",
              "    }\n",
              "\n",
              "    .dataframe thead th {\n",
              "        text-align: right;\n",
              "    }\n",
              "</style>\n",
              "<table border=\"1\" class=\"dataframe\">\n",
              "  <thead>\n",
              "    <tr style=\"text-align: right;\">\n",
              "      <th></th>\n",
              "      <th>age</th>\n",
              "      <th>workclass</th>\n",
              "      <th>fnlwgt</th>\n",
              "      <th>education</th>\n",
              "      <th>education.num</th>\n",
              "      <th>marital.status</th>\n",
              "      <th>occupation</th>\n",
              "      <th>relationship</th>\n",
              "      <th>race</th>\n",
              "      <th>sex</th>\n",
              "      <th>capital.gain</th>\n",
              "      <th>capital.loss</th>\n",
              "      <th>hours.per.week</th>\n",
              "      <th>native.country</th>\n",
              "      <th>income</th>\n",
              "    </tr>\n",
              "  </thead>\n",
              "  <tbody>\n",
              "    <tr>\n",
              "      <th>0</th>\n",
              "      <td>90</td>\n",
              "      <td>?</td>\n",
              "      <td>77053</td>\n",
              "      <td>HS-grad</td>\n",
              "      <td>9</td>\n",
              "      <td>Widowed</td>\n",
              "      <td>?</td>\n",
              "      <td>Not-in-family</td>\n",
              "      <td>White</td>\n",
              "      <td>Female</td>\n",
              "      <td>0</td>\n",
              "      <td>4356</td>\n",
              "      <td>40</td>\n",
              "      <td>United-States</td>\n",
              "      <td>&lt;=50K</td>\n",
              "    </tr>\n",
              "    <tr>\n",
              "      <th>1</th>\n",
              "      <td>82</td>\n",
              "      <td>Private</td>\n",
              "      <td>132870</td>\n",
              "      <td>HS-grad</td>\n",
              "      <td>9</td>\n",
              "      <td>Widowed</td>\n",
              "      <td>Exec-managerial</td>\n",
              "      <td>Not-in-family</td>\n",
              "      <td>White</td>\n",
              "      <td>Female</td>\n",
              "      <td>0</td>\n",
              "      <td>4356</td>\n",
              "      <td>18</td>\n",
              "      <td>United-States</td>\n",
              "      <td>&lt;=50K</td>\n",
              "    </tr>\n",
              "    <tr>\n",
              "      <th>2</th>\n",
              "      <td>66</td>\n",
              "      <td>?</td>\n",
              "      <td>186061</td>\n",
              "      <td>Some-college</td>\n",
              "      <td>10</td>\n",
              "      <td>Widowed</td>\n",
              "      <td>?</td>\n",
              "      <td>Unmarried</td>\n",
              "      <td>Black</td>\n",
              "      <td>Female</td>\n",
              "      <td>0</td>\n",
              "      <td>4356</td>\n",
              "      <td>40</td>\n",
              "      <td>United-States</td>\n",
              "      <td>&lt;=50K</td>\n",
              "    </tr>\n",
              "    <tr>\n",
              "      <th>3</th>\n",
              "      <td>54</td>\n",
              "      <td>Private</td>\n",
              "      <td>140359</td>\n",
              "      <td>7th-8th</td>\n",
              "      <td>4</td>\n",
              "      <td>Divorced</td>\n",
              "      <td>Machine-op-inspct</td>\n",
              "      <td>Unmarried</td>\n",
              "      <td>White</td>\n",
              "      <td>Female</td>\n",
              "      <td>0</td>\n",
              "      <td>3900</td>\n",
              "      <td>40</td>\n",
              "      <td>United-States</td>\n",
              "      <td>&lt;=50K</td>\n",
              "    </tr>\n",
              "    <tr>\n",
              "      <th>4</th>\n",
              "      <td>41</td>\n",
              "      <td>Private</td>\n",
              "      <td>264663</td>\n",
              "      <td>Some-college</td>\n",
              "      <td>10</td>\n",
              "      <td>Separated</td>\n",
              "      <td>Prof-specialty</td>\n",
              "      <td>Own-child</td>\n",
              "      <td>White</td>\n",
              "      <td>Female</td>\n",
              "      <td>0</td>\n",
              "      <td>3900</td>\n",
              "      <td>40</td>\n",
              "      <td>United-States</td>\n",
              "      <td>&lt;=50K</td>\n",
              "    </tr>\n",
              "  </tbody>\n",
              "</table>\n",
              "</div>\n",
              "      <button class=\"colab-df-convert\" onclick=\"convertToInteractive('df-05c59953-5f69-401e-973c-74d52796f96e')\"\n",
              "              title=\"Convert this dataframe to an interactive table.\"\n",
              "              style=\"display:none;\">\n",
              "        \n",
              "  <svg xmlns=\"http://www.w3.org/2000/svg\" height=\"24px\"viewBox=\"0 0 24 24\"\n",
              "       width=\"24px\">\n",
              "    <path d=\"M0 0h24v24H0V0z\" fill=\"none\"/>\n",
              "    <path d=\"M18.56 5.44l.94 2.06.94-2.06 2.06-.94-2.06-.94-.94-2.06-.94 2.06-2.06.94zm-11 1L8.5 8.5l.94-2.06 2.06-.94-2.06-.94L8.5 2.5l-.94 2.06-2.06.94zm10 10l.94 2.06.94-2.06 2.06-.94-2.06-.94-.94-2.06-.94 2.06-2.06.94z\"/><path d=\"M17.41 7.96l-1.37-1.37c-.4-.4-.92-.59-1.43-.59-.52 0-1.04.2-1.43.59L10.3 9.45l-7.72 7.72c-.78.78-.78 2.05 0 2.83L4 21.41c.39.39.9.59 1.41.59.51 0 1.02-.2 1.41-.59l7.78-7.78 2.81-2.81c.8-.78.8-2.07 0-2.86zM5.41 20L4 18.59l7.72-7.72 1.47 1.35L5.41 20z\"/>\n",
              "  </svg>\n",
              "      </button>\n",
              "      \n",
              "  <style>\n",
              "    .colab-df-container {\n",
              "      display:flex;\n",
              "      flex-wrap:wrap;\n",
              "      gap: 12px;\n",
              "    }\n",
              "\n",
              "    .colab-df-convert {\n",
              "      background-color: #E8F0FE;\n",
              "      border: none;\n",
              "      border-radius: 50%;\n",
              "      cursor: pointer;\n",
              "      display: none;\n",
              "      fill: #1967D2;\n",
              "      height: 32px;\n",
              "      padding: 0 0 0 0;\n",
              "      width: 32px;\n",
              "    }\n",
              "\n",
              "    .colab-df-convert:hover {\n",
              "      background-color: #E2EBFA;\n",
              "      box-shadow: 0px 1px 2px rgba(60, 64, 67, 0.3), 0px 1px 3px 1px rgba(60, 64, 67, 0.15);\n",
              "      fill: #174EA6;\n",
              "    }\n",
              "\n",
              "    [theme=dark] .colab-df-convert {\n",
              "      background-color: #3B4455;\n",
              "      fill: #D2E3FC;\n",
              "    }\n",
              "\n",
              "    [theme=dark] .colab-df-convert:hover {\n",
              "      background-color: #434B5C;\n",
              "      box-shadow: 0px 1px 3px 1px rgba(0, 0, 0, 0.15);\n",
              "      filter: drop-shadow(0px 1px 2px rgba(0, 0, 0, 0.3));\n",
              "      fill: #FFFFFF;\n",
              "    }\n",
              "  </style>\n",
              "\n",
              "      <script>\n",
              "        const buttonEl =\n",
              "          document.querySelector('#df-05c59953-5f69-401e-973c-74d52796f96e button.colab-df-convert');\n",
              "        buttonEl.style.display =\n",
              "          google.colab.kernel.accessAllowed ? 'block' : 'none';\n",
              "\n",
              "        async function convertToInteractive(key) {\n",
              "          const element = document.querySelector('#df-05c59953-5f69-401e-973c-74d52796f96e');\n",
              "          const dataTable =\n",
              "            await google.colab.kernel.invokeFunction('convertToInteractive',\n",
              "                                                     [key], {});\n",
              "          if (!dataTable) return;\n",
              "\n",
              "          const docLinkHtml = 'Like what you see? Visit the ' +\n",
              "            '<a target=\"_blank\" href=https://colab.research.google.com/notebooks/data_table.ipynb>data table notebook</a>'\n",
              "            + ' to learn more about interactive tables.';\n",
              "          element.innerHTML = '';\n",
              "          dataTable['output_type'] = 'display_data';\n",
              "          await google.colab.output.renderOutput(dataTable, element);\n",
              "          const docLink = document.createElement('div');\n",
              "          docLink.innerHTML = docLinkHtml;\n",
              "          element.appendChild(docLink);\n",
              "        }\n",
              "      </script>\n",
              "    </div>\n",
              "  </div>\n",
              "  "
            ]
          },
          "metadata": {},
          "execution_count": 2
        }
      ]
    },
    {
      "cell_type": "code",
      "source": [
        "# Shape of dataset\n",
        "print('Rows: {} Columns: {}'.format(dataset.shape[0], dataset.shape[1]))"
      ],
      "metadata": {
        "colab": {
          "base_uri": "https://localhost:8080/"
        },
        "id": "Gc2RsFjfMJ8r",
        "outputId": "1975ac21-0846-4b44-e23d-bef74ed2cc50"
      },
      "execution_count": 3,
      "outputs": [
        {
          "output_type": "stream",
          "name": "stdout",
          "text": [
            "Rows: 32561 Columns: 15\n"
          ]
        }
      ]
    },
    {
      "cell_type": "code",
      "source": [
        "# Features data-type \n",
        "dataset.info()"
      ],
      "metadata": {
        "colab": {
          "base_uri": "https://localhost:8080/"
        },
        "id": "LMmDSz9LMM9Q",
        "outputId": "1621a216-cca0-432a-a26a-12d49ec66924"
      },
      "execution_count": 4,
      "outputs": [
        {
          "output_type": "stream",
          "name": "stdout",
          "text": [
            "<class 'pandas.core.frame.DataFrame'>\n",
            "RangeIndex: 32561 entries, 0 to 32560\n",
            "Data columns (total 15 columns):\n",
            " #   Column          Non-Null Count  Dtype \n",
            "---  ------          --------------  ----- \n",
            " 0   age             32561 non-null  int64 \n",
            " 1   workclass       32561 non-null  object\n",
            " 2   fnlwgt          32561 non-null  int64 \n",
            " 3   education       32561 non-null  object\n",
            " 4   education.num   32561 non-null  int64 \n",
            " 5   marital.status  32561 non-null  object\n",
            " 6   occupation      32561 non-null  object\n",
            " 7   relationship    32561 non-null  object\n",
            " 8   race            32561 non-null  object\n",
            " 9   sex             32561 non-null  object\n",
            " 10  capital.gain    32561 non-null  int64 \n",
            " 11  capital.loss    32561 non-null  int64 \n",
            " 12  hours.per.week  32561 non-null  int64 \n",
            " 13  native.country  32561 non-null  object\n",
            " 14  income          32561 non-null  object\n",
            "dtypes: int64(6), object(9)\n",
            "memory usage: 3.7+ MB\n"
          ]
        }
      ]
    },
    {
      "cell_type": "code",
      "source": [
        "# Statistical summary\n",
        "dataset.describe().T"
      ],
      "metadata": {
        "colab": {
          "base_uri": "https://localhost:8080/",
          "height": 237
        },
        "id": "IJry0eTTMVK0",
        "outputId": "bfb5d9bf-48d8-4026-aea9-10d62aa95fb5"
      },
      "execution_count": 5,
      "outputs": [
        {
          "output_type": "execute_result",
          "data": {
            "text/plain": [
              "                  count           mean            std      min       25%  \\\n",
              "age             32561.0      38.581647      13.640433     17.0      28.0   \n",
              "fnlwgt          32561.0  189778.366512  105549.977697  12285.0  117827.0   \n",
              "education.num   32561.0      10.080679       2.572720      1.0       9.0   \n",
              "capital.gain    32561.0    1077.648844    7385.292085      0.0       0.0   \n",
              "capital.loss    32561.0      87.303830     402.960219      0.0       0.0   \n",
              "hours.per.week  32561.0      40.437456      12.347429      1.0      40.0   \n",
              "\n",
              "                     50%       75%        max  \n",
              "age                 37.0      48.0       90.0  \n",
              "fnlwgt          178356.0  237051.0  1484705.0  \n",
              "education.num       10.0      12.0       16.0  \n",
              "capital.gain         0.0       0.0    99999.0  \n",
              "capital.loss         0.0       0.0     4356.0  \n",
              "hours.per.week      40.0      45.0       99.0  "
            ],
            "text/html": [
              "\n",
              "  <div id=\"df-5eed6384-5453-42df-a8f4-0777aa307d9a\">\n",
              "    <div class=\"colab-df-container\">\n",
              "      <div>\n",
              "<style scoped>\n",
              "    .dataframe tbody tr th:only-of-type {\n",
              "        vertical-align: middle;\n",
              "    }\n",
              "\n",
              "    .dataframe tbody tr th {\n",
              "        vertical-align: top;\n",
              "    }\n",
              "\n",
              "    .dataframe thead th {\n",
              "        text-align: right;\n",
              "    }\n",
              "</style>\n",
              "<table border=\"1\" class=\"dataframe\">\n",
              "  <thead>\n",
              "    <tr style=\"text-align: right;\">\n",
              "      <th></th>\n",
              "      <th>count</th>\n",
              "      <th>mean</th>\n",
              "      <th>std</th>\n",
              "      <th>min</th>\n",
              "      <th>25%</th>\n",
              "      <th>50%</th>\n",
              "      <th>75%</th>\n",
              "      <th>max</th>\n",
              "    </tr>\n",
              "  </thead>\n",
              "  <tbody>\n",
              "    <tr>\n",
              "      <th>age</th>\n",
              "      <td>32561.0</td>\n",
              "      <td>38.581647</td>\n",
              "      <td>13.640433</td>\n",
              "      <td>17.0</td>\n",
              "      <td>28.0</td>\n",
              "      <td>37.0</td>\n",
              "      <td>48.0</td>\n",
              "      <td>90.0</td>\n",
              "    </tr>\n",
              "    <tr>\n",
              "      <th>fnlwgt</th>\n",
              "      <td>32561.0</td>\n",
              "      <td>189778.366512</td>\n",
              "      <td>105549.977697</td>\n",
              "      <td>12285.0</td>\n",
              "      <td>117827.0</td>\n",
              "      <td>178356.0</td>\n",
              "      <td>237051.0</td>\n",
              "      <td>1484705.0</td>\n",
              "    </tr>\n",
              "    <tr>\n",
              "      <th>education.num</th>\n",
              "      <td>32561.0</td>\n",
              "      <td>10.080679</td>\n",
              "      <td>2.572720</td>\n",
              "      <td>1.0</td>\n",
              "      <td>9.0</td>\n",
              "      <td>10.0</td>\n",
              "      <td>12.0</td>\n",
              "      <td>16.0</td>\n",
              "    </tr>\n",
              "    <tr>\n",
              "      <th>capital.gain</th>\n",
              "      <td>32561.0</td>\n",
              "      <td>1077.648844</td>\n",
              "      <td>7385.292085</td>\n",
              "      <td>0.0</td>\n",
              "      <td>0.0</td>\n",
              "      <td>0.0</td>\n",
              "      <td>0.0</td>\n",
              "      <td>99999.0</td>\n",
              "    </tr>\n",
              "    <tr>\n",
              "      <th>capital.loss</th>\n",
              "      <td>32561.0</td>\n",
              "      <td>87.303830</td>\n",
              "      <td>402.960219</td>\n",
              "      <td>0.0</td>\n",
              "      <td>0.0</td>\n",
              "      <td>0.0</td>\n",
              "      <td>0.0</td>\n",
              "      <td>4356.0</td>\n",
              "    </tr>\n",
              "    <tr>\n",
              "      <th>hours.per.week</th>\n",
              "      <td>32561.0</td>\n",
              "      <td>40.437456</td>\n",
              "      <td>12.347429</td>\n",
              "      <td>1.0</td>\n",
              "      <td>40.0</td>\n",
              "      <td>40.0</td>\n",
              "      <td>45.0</td>\n",
              "      <td>99.0</td>\n",
              "    </tr>\n",
              "  </tbody>\n",
              "</table>\n",
              "</div>\n",
              "      <button class=\"colab-df-convert\" onclick=\"convertToInteractive('df-5eed6384-5453-42df-a8f4-0777aa307d9a')\"\n",
              "              title=\"Convert this dataframe to an interactive table.\"\n",
              "              style=\"display:none;\">\n",
              "        \n",
              "  <svg xmlns=\"http://www.w3.org/2000/svg\" height=\"24px\"viewBox=\"0 0 24 24\"\n",
              "       width=\"24px\">\n",
              "    <path d=\"M0 0h24v24H0V0z\" fill=\"none\"/>\n",
              "    <path d=\"M18.56 5.44l.94 2.06.94-2.06 2.06-.94-2.06-.94-.94-2.06-.94 2.06-2.06.94zm-11 1L8.5 8.5l.94-2.06 2.06-.94-2.06-.94L8.5 2.5l-.94 2.06-2.06.94zm10 10l.94 2.06.94-2.06 2.06-.94-2.06-.94-.94-2.06-.94 2.06-2.06.94z\"/><path d=\"M17.41 7.96l-1.37-1.37c-.4-.4-.92-.59-1.43-.59-.52 0-1.04.2-1.43.59L10.3 9.45l-7.72 7.72c-.78.78-.78 2.05 0 2.83L4 21.41c.39.39.9.59 1.41.59.51 0 1.02-.2 1.41-.59l7.78-7.78 2.81-2.81c.8-.78.8-2.07 0-2.86zM5.41 20L4 18.59l7.72-7.72 1.47 1.35L5.41 20z\"/>\n",
              "  </svg>\n",
              "      </button>\n",
              "      \n",
              "  <style>\n",
              "    .colab-df-container {\n",
              "      display:flex;\n",
              "      flex-wrap:wrap;\n",
              "      gap: 12px;\n",
              "    }\n",
              "\n",
              "    .colab-df-convert {\n",
              "      background-color: #E8F0FE;\n",
              "      border: none;\n",
              "      border-radius: 50%;\n",
              "      cursor: pointer;\n",
              "      display: none;\n",
              "      fill: #1967D2;\n",
              "      height: 32px;\n",
              "      padding: 0 0 0 0;\n",
              "      width: 32px;\n",
              "    }\n",
              "\n",
              "    .colab-df-convert:hover {\n",
              "      background-color: #E2EBFA;\n",
              "      box-shadow: 0px 1px 2px rgba(60, 64, 67, 0.3), 0px 1px 3px 1px rgba(60, 64, 67, 0.15);\n",
              "      fill: #174EA6;\n",
              "    }\n",
              "\n",
              "    [theme=dark] .colab-df-convert {\n",
              "      background-color: #3B4455;\n",
              "      fill: #D2E3FC;\n",
              "    }\n",
              "\n",
              "    [theme=dark] .colab-df-convert:hover {\n",
              "      background-color: #434B5C;\n",
              "      box-shadow: 0px 1px 3px 1px rgba(0, 0, 0, 0.15);\n",
              "      filter: drop-shadow(0px 1px 2px rgba(0, 0, 0, 0.3));\n",
              "      fill: #FFFFFF;\n",
              "    }\n",
              "  </style>\n",
              "\n",
              "      <script>\n",
              "        const buttonEl =\n",
              "          document.querySelector('#df-5eed6384-5453-42df-a8f4-0777aa307d9a button.colab-df-convert');\n",
              "        buttonEl.style.display =\n",
              "          google.colab.kernel.accessAllowed ? 'block' : 'none';\n",
              "\n",
              "        async function convertToInteractive(key) {\n",
              "          const element = document.querySelector('#df-5eed6384-5453-42df-a8f4-0777aa307d9a');\n",
              "          const dataTable =\n",
              "            await google.colab.kernel.invokeFunction('convertToInteractive',\n",
              "                                                     [key], {});\n",
              "          if (!dataTable) return;\n",
              "\n",
              "          const docLinkHtml = 'Like what you see? Visit the ' +\n",
              "            '<a target=\"_blank\" href=https://colab.research.google.com/notebooks/data_table.ipynb>data table notebook</a>'\n",
              "            + ' to learn more about interactive tables.';\n",
              "          element.innerHTML = '';\n",
              "          dataTable['output_type'] = 'display_data';\n",
              "          await google.colab.output.renderOutput(dataTable, element);\n",
              "          const docLink = document.createElement('div');\n",
              "          docLink.innerHTML = docLinkHtml;\n",
              "          element.appendChild(docLink);\n",
              "        }\n",
              "      </script>\n",
              "    </div>\n",
              "  </div>\n",
              "  "
            ]
          },
          "metadata": {},
          "execution_count": 5
        }
      ]
    },
    {
      "cell_type": "code",
      "source": [
        "# Check for null values\n",
        "round((dataset.isnull().sum() / dataset.shape[0]) * 100, 2).astype(str) + ' %'"
      ],
      "metadata": {
        "colab": {
          "base_uri": "https://localhost:8080/"
        },
        "id": "6HWZVY-EMXGO",
        "outputId": "89da4793-b375-4582-92ba-8209b10ef828"
      },
      "execution_count": 6,
      "outputs": [
        {
          "output_type": "execute_result",
          "data": {
            "text/plain": [
              "age               0.0 %\n",
              "workclass         0.0 %\n",
              "fnlwgt            0.0 %\n",
              "education         0.0 %\n",
              "education.num     0.0 %\n",
              "marital.status    0.0 %\n",
              "occupation        0.0 %\n",
              "relationship      0.0 %\n",
              "race              0.0 %\n",
              "sex               0.0 %\n",
              "capital.gain      0.0 %\n",
              "capital.loss      0.0 %\n",
              "hours.per.week    0.0 %\n",
              "native.country    0.0 %\n",
              "income            0.0 %\n",
              "dtype: object"
            ]
          },
          "metadata": {},
          "execution_count": 6
        }
      ]
    },
    {
      "cell_type": "code",
      "source": [
        "# Check for '?' in dataset\n",
        "round((dataset.isin(['?']).sum() / dataset.shape[0]) * 100, 2).astype(str) + ' %'"
      ],
      "metadata": {
        "colab": {
          "base_uri": "https://localhost:8080/"
        },
        "id": "0agrBYy5Mbb7",
        "outputId": "3f51fa9c-22ac-497d-8eac-e33dadc089e0"
      },
      "execution_count": 7,
      "outputs": [
        {
          "output_type": "execute_result",
          "data": {
            "text/plain": [
              "age                0.0 %\n",
              "workclass         5.64 %\n",
              "fnlwgt             0.0 %\n",
              "education          0.0 %\n",
              "education.num      0.0 %\n",
              "marital.status     0.0 %\n",
              "occupation        5.66 %\n",
              "relationship       0.0 %\n",
              "race               0.0 %\n",
              "sex                0.0 %\n",
              "capital.gain       0.0 %\n",
              "capital.loss       0.0 %\n",
              "hours.per.week     0.0 %\n",
              "native.country    1.79 %\n",
              "income             0.0 %\n",
              "dtype: object"
            ]
          },
          "metadata": {},
          "execution_count": 7
        }
      ]
    },
    {
      "cell_type": "code",
      "source": [
        "# Checking the counts of label categories\n",
        "income = dataset['income'].value_counts(normalize=True)\n",
        "round(income * 100, 2).astype('str') + ' %'"
      ],
      "metadata": {
        "colab": {
          "base_uri": "https://localhost:8080/"
        },
        "id": "2K2F-zC3MgAQ",
        "outputId": "3f751d2f-dcb5-4360-c477-367ee898a67f"
      },
      "execution_count": 8,
      "outputs": [
        {
          "output_type": "execute_result",
          "data": {
            "text/plain": [
              "<=50K    75.92 %\n",
              ">50K     24.08 %\n",
              "Name: income, dtype: object"
            ]
          },
          "metadata": {},
          "execution_count": 8
        }
      ]
    },
    {
      "cell_type": "code",
      "source": [
        "dataset = dataset.replace('?', np.nan)\n",
        "# Checking null values\n",
        "round((dataset.isnull().sum() / dataset.shape[0]) * 100, 2).astype(str) + ' %'"
      ],
      "metadata": {
        "colab": {
          "base_uri": "https://localhost:8080/"
        },
        "id": "0HuhLHUmMvAl",
        "outputId": "66702db0-88ad-41da-c187-bb912d4a82e9"
      },
      "execution_count": 9,
      "outputs": [
        {
          "output_type": "execute_result",
          "data": {
            "text/plain": [
              "age                0.0 %\n",
              "workclass         5.64 %\n",
              "fnlwgt             0.0 %\n",
              "education          0.0 %\n",
              "education.num      0.0 %\n",
              "marital.status     0.0 %\n",
              "occupation        5.66 %\n",
              "relationship       0.0 %\n",
              "race               0.0 %\n",
              "sex                0.0 %\n",
              "capital.gain       0.0 %\n",
              "capital.loss       0.0 %\n",
              "hours.per.week     0.0 %\n",
              "native.country    1.79 %\n",
              "income             0.0 %\n",
              "dtype: object"
            ]
          },
          "metadata": {},
          "execution_count": 9
        }
      ]
    },
    {
      "cell_type": "code",
      "source": [
        "columns_with_nan = ['workclass', 'occupation', 'native.country']\n",
        "for col in columns_with_nan:\n",
        "    dataset[col].fillna(dataset[col].mode()[0], inplace = True)"
      ],
      "metadata": {
        "id": "iTpQ-Z3qMyhp"
      },
      "execution_count": 10,
      "outputs": []
    },
    {
      "cell_type": "code",
      "source": [
        "from sklearn.preprocessing import LabelEncoder\n",
        "for col in dataset.columns:\n",
        "  if dataset[col].dtypes == 'object':         \n",
        "    encoder = LabelEncoder()         \n",
        "    dataset[col] = encoder.fit_transform(dataset[col])"
      ],
      "metadata": {
        "id": "yjzS37TLM6Wm"
      },
      "execution_count": 11,
      "outputs": []
    },
    {
      "cell_type": "code",
      "source": [
        "X = dataset.drop('income', axis = 1) \n",
        "Y = dataset['income']"
      ],
      "metadata": {
        "id": "FnLngbR4M-cR"
      },
      "execution_count": 12,
      "outputs": []
    },
    {
      "cell_type": "code",
      "source": [
        "from sklearn.ensemble import ExtraTreesClassifier\n",
        "selector = ExtraTreesClassifier(random_state = 42)\n",
        "selector.fit(X, Y)\n",
        "feature_imp = selector.feature_importances_\n",
        "for index, val in enumerate(feature_imp):\n",
        "    print(index, round((val * 100), 2))"
      ],
      "metadata": {
        "colab": {
          "base_uri": "https://localhost:8080/"
        },
        "id": "muxOOPQjNCOB",
        "outputId": "3e7951d6-740b-4190-a25d-cc44cbc22645"
      },
      "execution_count": 13,
      "outputs": [
        {
          "output_type": "stream",
          "name": "stdout",
          "text": [
            "0 15.59\n",
            "1 4.13\n",
            "2 16.71\n",
            "3 3.87\n",
            "4 8.66\n",
            "5 8.04\n",
            "6 7.27\n",
            "7 8.62\n",
            "8 1.47\n",
            "9 2.84\n",
            "10 8.83\n",
            "11 2.81\n",
            "12 9.64\n",
            "13 1.53\n"
          ]
        }
      ]
    },
    {
      "cell_type": "code",
      "source": [
        "X = X.drop(['workclass', 'education', 'race', 'sex', 'capital.loss', 'native.country'], axis = 1)"
      ],
      "metadata": {
        "id": "QrvuiDKXNIF9"
      },
      "execution_count": 14,
      "outputs": []
    },
    {
      "cell_type": "code",
      "source": [
        "from sklearn.preprocessing import StandardScaler\n",
        "for col in X.columns:     \n",
        "  scaler = StandardScaler()     \n",
        "  X[col] = scaler.fit_transform(X[col].values.reshape(-1, 1))"
      ],
      "metadata": {
        "id": "zaZYx3clNO9y"
      },
      "execution_count": 15,
      "outputs": []
    },
    {
      "cell_type": "code",
      "source": [
        "round(Y.value_counts(normalize=True) * 100, 2).astype('str') + ' %'"
      ],
      "metadata": {
        "colab": {
          "base_uri": "https://localhost:8080/"
        },
        "id": "r7cI-3UfNUdV",
        "outputId": "f2366159-c40f-4eb0-a907-20a7412a00ea"
      },
      "execution_count": 16,
      "outputs": [
        {
          "output_type": "execute_result",
          "data": {
            "text/plain": [
              "0    75.92 %\n",
              "1    24.08 %\n",
              "Name: income, dtype: object"
            ]
          },
          "metadata": {},
          "execution_count": 16
        }
      ]
    },
    {
      "cell_type": "code",
      "source": [
        "from imblearn.over_sampling import RandomOverSampler \n",
        "ros = RandomOverSampler(random_state = 42)\n",
        "ros.fit(X, Y)\n",
        "X_resampled, Y_resampled = ros.fit_resample(X, Y)\n",
        "round(Y_resampled.value_counts(normalize=True) * 100, 2).astype('str') + ' %'"
      ],
      "metadata": {
        "colab": {
          "base_uri": "https://localhost:8080/"
        },
        "id": "ut4d5CZDNXTY",
        "outputId": "47b162c4-2aec-4980-ddba-6a73eed2fcac"
      },
      "execution_count": 17,
      "outputs": [
        {
          "output_type": "execute_result",
          "data": {
            "text/plain": [
              "0    50.0 %\n",
              "1    50.0 %\n",
              "Name: income, dtype: object"
            ]
          },
          "metadata": {},
          "execution_count": 17
        }
      ]
    },
    {
      "cell_type": "code",
      "source": [
        "from sklearn.model_selection import train_test_split\n",
        "X_train, X_test, Y_train, Y_test = train_test_split(X_resampled, Y_resampled, test_size = 0.2, random_state = 42)\n",
        "print(\"X_train shape:\", X_train.shape) \n",
        "print(\"X_test shape:\", X_test.shape) \n",
        "print(\"Y_train shape:\", Y_train.shape) \n",
        "print(\"Y_test shape:\", Y_test.shape)"
      ],
      "metadata": {
        "colab": {
          "base_uri": "https://localhost:8080/"
        },
        "id": "E9J_8E4GNdsl",
        "outputId": "2a46fa1d-7c2d-4fc1-c6c5-920f76c15689"
      },
      "execution_count": 18,
      "outputs": [
        {
          "output_type": "stream",
          "name": "stdout",
          "text": [
            "X_train shape: (39552, 8)\n",
            "X_test shape: (9888, 8)\n",
            "Y_train shape: (39552,)\n",
            "Y_test shape: (9888,)\n"
          ]
        }
      ]
    },
    {
      "cell_type": "code",
      "source": [
        "from sklearn.ensemble import RandomForestClassifier\n",
        "ran_for = RandomForestClassifier(random_state = 42)\n",
        "ran_for.fit(X_train, Y_train)\n",
        "Y_pred_ran_for = ran_for.predict(X_test)"
      ],
      "metadata": {
        "id": "KhmAgwbRNk9O"
      },
      "execution_count": 19,
      "outputs": []
    },
    {
      "cell_type": "code",
      "source": [
        "from sklearn.metrics import accuracy_score\n",
        "from sklearn.metrics import f1_score\n",
        "print('Random Forest Classifier:')\n",
        "print('Accuracy score:',round(accuracy_score(Y_test, Y_pred_ran_for) * 100, 2))\n",
        "print('F1 score:',round(f1_score(Y_test, Y_pred_ran_for) * 100, 2))"
      ],
      "metadata": {
        "colab": {
          "base_uri": "https://localhost:8080/"
        },
        "id": "sizEGK9hNnL8",
        "outputId": "19845f9e-bc89-41fa-cdc2-162ad03177a5"
      },
      "execution_count": 20,
      "outputs": [
        {
          "output_type": "stream",
          "name": "stdout",
          "text": [
            "Random Forest Classifier:\n",
            "Accuracy score: 92.6\n",
            "F1 score: 92.93\n"
          ]
        }
      ]
    },
    {
      "cell_type": "code",
      "source": [
        "from sklearn.model_selection import RandomizedSearchCV\n",
        "n_estimators = [int(x) for x in np.linspace(start = 40, stop = 150, num = 15)]\n",
        "max_depth = [int(x) for x in np.linspace(40, 150, num = 15)]\n",
        "param_dist = {\n",
        "    'n_estimators' : n_estimators,\n",
        "    'max_depth' : max_depth,\n",
        "}\n",
        "rf_tuned = RandomForestClassifier(random_state = 42)\n",
        "rf_cv = RandomizedSearchCV(estimator = rf_tuned, param_distributions = param_dist, cv = 5, random_state = 42)\n",
        "rf_cv.fit(X_train, Y_train)\n",
        "rf_cv.best_score_"
      ],
      "metadata": {
        "colab": {
          "base_uri": "https://localhost:8080/"
        },
        "id": "YClZf-Y0NxUV",
        "outputId": "1ae48bf2-2b2e-4484-df8b-50928680f9dd"
      },
      "execution_count": 21,
      "outputs": [
        {
          "output_type": "execute_result",
          "data": {
            "text/plain": [
              "0.9131271105332539"
            ]
          },
          "metadata": {},
          "execution_count": 21
        }
      ]
    },
    {
      "cell_type": "code",
      "source": [
        "rf_cv.best_params_"
      ],
      "metadata": {
        "colab": {
          "base_uri": "https://localhost:8080/"
        },
        "id": "3Odu19kAN6b6",
        "outputId": "df41a819-373e-4093-f447-6aa05d5b3b0f"
      },
      "execution_count": 22,
      "outputs": [
        {
          "output_type": "execute_result",
          "data": {
            "text/plain": [
              "{'n_estimators': 40, 'max_depth': 102}"
            ]
          },
          "metadata": {},
          "execution_count": 22
        }
      ]
    },
    {
      "cell_type": "code",
      "source": [
        "rf_best = RandomForestClassifier(max_depth = 102, n_estimators = 40, random_state = 42)\n",
        "rf_best.fit(X_train, Y_train)\n",
        "Y_pred_rf_best = rf_best.predict(X_test)\n",
        "print('Random Forest Classifier:') \n",
        "print('Accuracy score:',round(accuracy_score(Y_test, Y_pred_rf_best) * 100, 2)) \n",
        "print('F1 score:',round(f1_score(Y_test, Y_pred_rf_best) * 100, 2))"
      ],
      "metadata": {
        "colab": {
          "base_uri": "https://localhost:8080/"
        },
        "id": "H_WxlazqOBV2",
        "outputId": "c9790e6b-ba47-4453-c8ca-0bcec5ae99a2"
      },
      "execution_count": 23,
      "outputs": [
        {
          "output_type": "stream",
          "name": "stdout",
          "text": [
            "Random Forest Classifier:\n",
            "Accuracy score: 92.77\n",
            "F1 score: 93.08\n"
          ]
        }
      ]
    },
    {
      "cell_type": "code",
      "source": [
        "import matplotlib.pyplot as plt\n",
        "from sklearn.metrics import confusion_matrix \n",
        "cm = confusion_matrix(Y_test, Y_pred_rf_best)\n",
        "cm\n",
        "#plt.show()"
      ],
      "metadata": {
        "colab": {
          "base_uri": "https://localhost:8080/"
        },
        "id": "56icLMrpOFAY",
        "outputId": "84cb7abb-be81-4473-ebfa-4f96f688814b"
      },
      "execution_count": 31,
      "outputs": [
        {
          "output_type": "execute_result",
          "data": {
            "text/plain": [
              "array([[4362,  593],\n",
              "       [ 122, 4811]])"
            ]
          },
          "metadata": {},
          "execution_count": 31
        }
      ]
    },
    {
      "cell_type": "code",
      "source": [
        "from sklearn.metrics import classification_report\n",
        "print(classification_report(Y_test, Y_pred_rf_best))"
      ],
      "metadata": {
        "colab": {
          "base_uri": "https://localhost:8080/"
        },
        "id": "Yw1JslhROOGC",
        "outputId": "e33278a0-9592-462a-c846-d134f67d7987"
      },
      "execution_count": 26,
      "outputs": [
        {
          "output_type": "stream",
          "name": "stdout",
          "text": [
            "              precision    recall  f1-score   support\n",
            "\n",
            "           0       0.97      0.88      0.92      4955\n",
            "           1       0.89      0.98      0.93      4933\n",
            "\n",
            "    accuracy                           0.93      9888\n",
            "   macro avg       0.93      0.93      0.93      9888\n",
            "weighted avg       0.93      0.93      0.93      9888\n",
            "\n"
          ]
        }
      ]
    }
  ]
}